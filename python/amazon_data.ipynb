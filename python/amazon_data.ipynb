{
 "cells": [
  {
   "cell_type": "code",
   "execution_count": 1,
   "id": "ffa8040c",
   "metadata": {},
   "outputs": [],
   "source": [
    "import pandas as  pd\n",
    "import selenium\n",
    "from selenium import webdriver\n",
    "from selenium.webdriver.support.ui import Select"
   ]
  },
  {
   "cell_type": "code",
   "execution_count": null,
   "id": "df16d5f5",
   "metadata": {},
   "outputs": [],
   "source": [
    "driver=webdriver.Chrome(executable_path=r\"E:\\chromedriver.exe\")\n",
    "writer=pd.ExcelWriter(r\"C:\\Users\\merit\\Desktop\"+\"\\\\\" + \"amazon.xlsx\",engine=\"xlsxwriter\")\n",
    "driver.get(\"https://www.amazon.in/women-shoes/s?k=women+shoes\")\n",
    "product=driver.find_elements_by_xpath(r\"//span[contains(@class,'a-size-base-plus a-color-base a-text-normal')]\")\n",
    "price=driver.find_elements_by_xpath(r\"//div[contains(@class,'a-row a-size-base a-color-base')]\")\n",
    "prdlst=[]\n",
    "prclst=[]\n",
    "for i in product:\n",
    "    prdlst.append(i.text)\n",
    "for i in price:\n",
    "    prclst.append(i.text.split())\n",
    "prd=pd.DataFrame(prdlst,columns=[\"Product Name\"])\n",
    "prc=pd.DataFrame(prclst,columns=[\"new price\",\"old price\",\"save\",\"money_saved\",\"discount_%\"])\n",
    "del prc[\"save\"]\n",
    "product_details=pd.merge(prd,prc,left_index=True,right_index=True)\n",
    "pd.ExcelWriter(\"amazon.xlsx\",engine='xlsxwriter')\n",
    "product_details.to_excel(writer,sheet_name=\"productdata\",index=Fasle)\n",
    "driver.close()"
   ]
  },
  {
   "cell_type": "code",
   "execution_count": null,
   "id": "88288b26",
   "metadata": {},
   "outputs": [],
   "source": []
  },
  {
   "cell_type": "code",
   "execution_count": null,
   "id": "02bee47d",
   "metadata": {},
   "outputs": [],
   "source": []
  }
 ],
 "metadata": {
  "kernelspec": {
   "display_name": "Python 3 (ipykernel)",
   "language": "python",
   "name": "python3"
  },
  "language_info": {
   "codemirror_mode": {
    "name": "ipython",
    "version": 3
   },
   "file_extension": ".py",
   "mimetype": "text/x-python",
   "name": "python",
   "nbconvert_exporter": "python",
   "pygments_lexer": "ipython3",
   "version": "3.9.6"
  }
 },
 "nbformat": 4,
 "nbformat_minor": 5
}
