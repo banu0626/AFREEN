{
 "cells": [
  {
   "cell_type": "code",
   "execution_count": 1,
   "metadata": {
    "collapsed": true
   },
   "outputs": [],
   "source": [
    "import selenium\n",
    "from selenium import webdriver\n",
    "from selenium.webdriver.support.ui import Select\n",
    "import pandas as pd\n",
    "import os"
   ]
  },
  {
   "cell_type": "code",
   "execution_count": 7,
   "metadata": {},
   "outputs": [
    {
     "name": "stdout",
     "output_type": "stream",
     "text": [
      "COUNTRY NAME: ['India', 'Ireland', 'Pakistan', 'Australia', 'Sri Lanka', 'Bangladesh', 'England', 'West Indies', 'South Africa', 'Zimbabwe', 'New Zealand', 'Afghanistan', 'Italy', 'Botswana', 'Iran', 'Belgium', 'Denmark', 'Singapore', 'Namibia', 'Canada', 'Uganda', 'Malaysia', 'Nepal', 'Bermuda', 'Netherlands', 'Scotland', 'United Arab Emirates', 'Hong Kong', 'Kenya', 'United States', 'Germany', 'Fiji', 'Kuwait', 'Vanuatu', 'Jersey', 'Oman', 'Papua New Guinea']\n"
     ]
    },
    {
     "data": {
      "text/plain": [
       "<bound method WebDriver.close of <selenium.webdriver.chrome.webdriver.WebDriver (session=\"74086db097838ef5f4b2735f82b6cb4c\")>>"
      ]
     },
     "execution_count": 7,
     "metadata": {},
     "output_type": "execute_result"
    }
   ],
   "source": [
    "driver= webdriver.Chrome(executable_path=r\"C:\\Users\\ELCOT-Lenovo\\Desktop\\chromedriver_win32 (1)\\chromedriver.exe\")\n",
    "driver.maximize_window()\n",
    "driver.get(\"https://www.cricbuzz.com\")\n",
    "driver.find_element_by_xpath(\"//a[contains(text(),'Teams')]\").click()\n",
    "driver.find_element_by_xpath(\"//a[contains(text(),'International')]\").click()\n",
    "country=driver.find_elements_by_xpath(\"//body/div[1]/div[2]/div[5]/div[1]\")\n",
    "lst=[]\n",
    "for i in country:\n",
    "    lst.append(i.text)\n",
    "    countlst=lst[0].split('\\n')\n",
    "    print(\"COUNTRY NAME:\",countlst)\n",
    "flag=driver.find_elements_by_xpath(\"//a[contains(text(),'International')]//following::img\")\n",
    "for i,j in zip(flag,countlst):\n",
    "    with open(j+\".png\",\"wb\") as pic:\n",
    "        pic.write(i.screenshot_as_png)\n",
    "driver.close"
   ]
  },
  {
   "cell_type": "code",
   "execution_count": null,
   "metadata": {
    "collapsed": true
   },
   "outputs": [],
   "source": []
  },
  {
   "cell_type": "code",
   "execution_count": null,
   "metadata": {
    "collapsed": true
   },
   "outputs": [],
   "source": []
  },
  {
   "cell_type": "code",
   "execution_count": null,
   "metadata": {
    "collapsed": true
   },
   "outputs": [],
   "source": []
  },
  {
   "cell_type": "code",
   "execution_count": null,
   "metadata": {
    "collapsed": true
   },
   "outputs": [],
   "source": []
  },
  {
   "cell_type": "code",
   "execution_count": 6,
   "metadata": {},
   "outputs": [],
   "source": [
    "driver= webdriver.Chrome(executable_path=r\"C:\\Users\\ELCOT-Lenovo\\Desktop\\chromedriver_win32 (1)\\chromedriver.exe\")\n",
    "driver.maximize_window()\n",
    "driver.get(\"https://www.cricbuzz.com/cricket-stats/icc-rankings/men/batting\")\n",
    "writer=pd.ExcelWriter(r\"C:\\\\Users\\\\ELCOT-Lenovo\"+\"\\\\\"+'bat_final_odi.xlsx',engine='xlsxwriter')\n",
    "tstlst=[]\n",
    "batst=driver.find_elements_by_xpath(\"//div[contains(@class,'cb-col cb-col-100 cb-font-14 cb-lst-itm text-center')]\")\n",
    "for i in batst:\n",
    "    tstlst.append(i.text.split(\"\\n\"))\n",
    "flt=pd.DataFrame(tstlst,columns=[\"position\",\"\",\"player\",\"country\",\"rating\"])\n",
    "ts=flt.dropna(axis=0)\n",
    "        \n",
    "odilst=[]\n",
    "driver.find_element_by_xpath(\"//a[@id='batsmen-odis-tab']\").click()\n",
    "batodi=driver.find_elements_by_xpath(\"//div[contains(@class,'cb-col cb-col-100 cb-font-14 cb-lst-itm text-center')]\")\n",
    "for j in batodi:\n",
    "    odilst.append(j.text.split(\"\\n\"))\n",
    "flo=pd.DataFrame(odilst,columns=[\"position\",\"\",\"player\",\"country\",\"rating\"])\n",
    "od=flo.dropna(axis=0)\n",
    "\n",
    "t20=[]\n",
    "driver.find_element_by_xpath(\"//a[@id='batsmen-t20s-tab']\").click()\n",
    "batt20=driver.find_elements_by_xpath(\"//div[contains(@class,'cb-col cb-col-100 cb-font-14 cb-lst-itm text-center')]\")\n",
    "for k in batt20:\n",
    "    t20.append(k.text.split(\"\\n\"))\n",
    "fl2=pd.DataFrame(odilst,columns=[\"position\",\"\",\"player\",\"country\",\"rating\"])\n",
    "t2=fl2.dropna(axis=0)\n",
    "\n",
    "ts.to_excel(writer,sheet_name='TEST',index=True)\n",
    "od.to_excel(writer,sheet_name='ODI',index=True)\n",
    "t2.to_excel(writer,sheet_name='T20',index=True)\n",
    "driver.close()"
   ]
  },
  {
   "cell_type": "code",
   "execution_count": null,
   "metadata": {
    "collapsed": true
   },
   "outputs": [],
   "source": []
  },
  {
   "cell_type": "code",
   "execution_count": null,
   "metadata": {
    "collapsed": true
   },
   "outputs": [],
   "source": []
  },
  {
   "cell_type": "code",
   "execution_count": null,
   "metadata": {
    "collapsed": true
   },
   "outputs": [],
   "source": []
  },
  {
   "cell_type": "code",
   "execution_count": null,
   "metadata": {
    "collapsed": true
   },
   "outputs": [],
   "source": []
  },
  {
   "cell_type": "code",
   "execution_count": null,
   "metadata": {
    "collapsed": true
   },
   "outputs": [],
   "source": []
  }
 ],
 "metadata": {
  "kernelspec": {
   "display_name": "Python 3",
   "language": "python",
   "name": "python3"
  },
  "language_info": {
   "codemirror_mode": {
    "name": "ipython",
    "version": 3
   },
   "file_extension": ".py",
   "mimetype": "text/x-python",
   "name": "python",
   "nbconvert_exporter": "python",
   "pygments_lexer": "ipython3",
   "version": "3.6.3"
  }
 },
 "nbformat": 4,
 "nbformat_minor": 2
}
